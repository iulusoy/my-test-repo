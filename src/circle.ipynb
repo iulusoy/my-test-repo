{
 "cells": [
  {
   "cell_type": "markdown",
   "id": "32849023",
   "metadata": {},
   "source": [
    "# Sample notebook\n",
    "Inga Ulusoy, February 2022"
   ]
  },
  {
   "cell_type": "code",
   "execution_count": null,
   "id": "e434a257",
   "metadata": {},
   "outputs": [],
   "source": [
    "import numpy as np\n",
    "import matplotlib.pyplot as plt"
   ]
  },
  {
   "cell_type": "code",
   "execution_count": null,
   "id": "8e147178",
   "metadata": {},
   "outputs": [],
   "source": [
    "A = 5*10"
   ]
  },
  {
   "cell_type": "code",
   "execution_count": null,
   "id": "b70352b1",
   "metadata": {},
   "outputs": [],
   "source": [
    "print(A)"
   ]
  },
  {
   "cell_type": "code",
   "execution_count": null,
   "id": "ce3ae825",
   "metadata": {},
   "outputs": [],
   "source": [
    "def area_circ(r_in):\n",
    "    \"\"\"Calculates the area of a circle with given radius.\n",
    "\n",
    "    :Input: The radius of the circle (float, >=0).\n",
    "    :Returns: The area of the circle (float).\"\"\"\n",
    "    if r_in < 0:\n",
    "        raise ValueError(\"The radius must be >= 0.\")\n",
    "    area_out = np.pi * r_in**2\n",
    "    return area_out"
   ]
  },
  {
   "cell_type": "code",
   "execution_count": null,
   "id": "8abb98dc",
   "metadata": {},
   "outputs": [],
   "source": [
    "A = area_circ(5)"
   ]
  },
  {
   "cell_type": "code",
   "execution_count": null,
   "id": "5280a7bb",
   "metadata": {},
   "outputs": [],
   "source": [
    "print(A)"
   ]
  },
  {
   "cell_type": "code",
   "execution_count": null,
   "id": "b95aa182",
   "metadata": {},
   "outputs": [],
   "source": [
    "r = np.arange(0.1,5.1,0.1)"
   ]
  },
  {
   "cell_type": "code",
   "execution_count": null,
   "id": "6a9372d8",
   "metadata": {},
   "outputs": [],
   "source": [
    "A = []\n",
    "for i in r:\n",
    "    A.append(area_circ(i))"
   ]
  },
  {
   "cell_type": "code",
   "execution_count": null,
   "id": "23718124",
   "metadata": {},
   "outputs": [],
   "source": [
    "plt.plot(r,A)\n",
    "plt.show()"
   ]
  },
  {
   "cell_type": "code",
   "execution_count": null,
   "id": "038cb6ca",
   "metadata": {},
   "outputs": [],
   "source": []
  }
 ],
 "metadata": {
  "kernelspec": {
   "display_name": "Python 3.9.7 ('base')",
   "language": "python",
   "name": "python397jvsc74a57bd084900d5badacbc0e30c161754da65cc47e9eebaa051ec2f304abeddb2faf92d7"
  },
  "language_info": {
   "codemirror_mode": {
    "name": "ipython",
    "version": 3
   },
   "file_extension": ".py",
   "mimetype": "text/x-python",
   "name": "python",
   "nbconvert_exporter": "python",
   "pygments_lexer": "ipython3",
   "version": "3.9.7"
  }
 },
 "nbformat": 4,
 "nbformat_minor": 5
}
